{
 "cells": [
  {
   "cell_type": "code",
   "execution_count": 3,
   "id": "4c72f77d-cfaa-4f7d-9ec1-c863f731877f",
   "metadata": {},
   "outputs": [
    {
     "name": "stdout",
     "output_type": "stream",
     "text": [
      "0\n",
      "1\n",
      "2\n",
      "3\n",
      "4\n",
      "5\n",
      "6\n",
      "7\n",
      "8\n",
      "9\n",
      "10\n",
      "11\n",
      "12\n",
      "13\n",
      "14\n",
      "15\n",
      "16\n",
      "17\n",
      "18\n",
      "19\n"
     ]
    }
   ],
   "source": [
    "# 1 # print 0 to 20 by using range\n",
    "x = range(20)\n",
    "for n in x:\n",
    "    print(n)"
   ]
  },
  {
   "cell_type": "code",
   "execution_count": 7,
   "id": "aa4d8997-ea0c-4292-8405-642f3c83db5f",
   "metadata": {},
   "outputs": [
    {
     "name": "stdout",
     "output_type": "stream",
     "text": [
      "10\n",
      "11\n",
      "12\n",
      "13\n",
      "14\n",
      "15\n",
      "16\n",
      "17\n",
      "18\n",
      "19\n"
     ]
    }
   ],
   "source": [
    "#2 # print range 10 to 20\n",
    "x = range(10, 20)\n",
    "for n in x:\n",
    "    print(n)"
   ]
  },
  {
   "cell_type": "code",
   "execution_count": 19,
   "id": "aa13be52-c11b-4aaf-92bc-b3bb98b61ee1",
   "metadata": {},
   "outputs": [
    {
     "name": "stdout",
     "output_type": "stream",
     "text": [
      "Number of item in the List2:  7\n"
     ]
    }
   ],
   "source": [
    "#3 #Print number of items in the list by using 'len'\n",
    "#[10, 20, 14, 55, 43, 87, 76]\n",
    "#Number of item in the List2: 7\n",
    "\n",
    "mylst = [10, 20, 14, 55, 43, 87, 76]\n",
    "a = len(mylst)\n",
    "print(\"Number of item in the List2: \",a)"
   ]
  },
  {
   "cell_type": "code",
   "execution_count": 44,
   "id": "e3e07184-16ea-446f-9d79-32517c56ba63",
   "metadata": {},
   "outputs": [
    {
     "name": "stdout",
     "output_type": "stream",
     "text": [
      "Artificial Intelligence\n",
      "A\n",
      "r\n",
      "t\n",
      "i\n",
      "f\n",
      "i\n",
      "c\n",
      "i\n",
      "a\n",
      "l\n",
      "I\n",
      "n\n",
      "t\n",
      "e\n",
      "l\n",
      "l\n",
      "i\n",
      "g\n",
      "e\n",
      "n\n",
      "c\n",
      "e\n"
     ]
    }
   ],
   "source": [
    "#4 #Artificial Intelligence\n",
    "print(\"Artificial\",\"Intelligence\")\n",
    "s = [\"A\",\"r\",\"t\",\"i\",\"f\",\"i\",\"c\",\"i\",\"a\",\"l\", \"I\",\"n\",\"t\",\"e\",\"l\",\"l\",\"i\",\"g\",\"e\",\"n\",\"c\",\"e\"]\n",
    "for n in s:\n",
    "    print(n)"
   ]
  },
  {
   "cell_type": "code",
   "execution_count": 59,
   "id": "f1818383-ed00-4c01-b0a9-8f8a5c059087",
   "metadata": {},
   "outputs": [
    {
     "name": "stdin",
     "output_type": "stream",
     "text": [
      "Your Name steffi\n",
      "Your Age 36\n",
      "Your Profession software tester\n"
     ]
    }
   ],
   "source": [
    "#-Your Name-\n",
    "#-Your Age-\n",
    "#-Your Profession-\n",
    "a = input(\"Your Name\")\n",
    "b = int(input(\"Your Age\"))\n",
    "c = input(\"Your Profession\")"
   ]
  },
  {
   "cell_type": "code",
   "execution_count": 63,
   "id": "2694bb1c-66b2-4881-88c7-0b3724dc3ea6",
   "metadata": {},
   "outputs": [
    {
     "name": "stdout",
     "output_type": "stream",
     "text": [
      "(1, 'Welcome', 2, 'Hope')\n",
      "<class 'tuple'>\n"
     ]
    }
   ],
   "source": [
    "# Refer this link : https://www.geeksforgeeks.org/python-tuples/\n",
    "# Print yhis mixered datatype using Tuples\n",
    "tupleA = (1, 'Welcome', 2, 'Hope')\n",
    "print(tupleA)\n",
    "print (type(tupleA))"
   ]
  },
  {
   "cell_type": "code",
   "execution_count": 91,
   "id": "62e12dc7-44be-4f39-a70b-a4ad8639ae09",
   "metadata": {},
   "outputs": [
    {
     "name": "stdout",
     "output_type": "stream",
     "text": [
      "(0, 1, 2, 3, 'python', 'HOPE')\n",
      "((0, 1, 2, 3), ('python', 'HOPE'))\n"
     ]
    }
   ],
   "source": [
    " # Refer this link : https://www.geeksforgeeks.org/python-tuples/\n",
    "Tuple1 = (0, 1, 2, 3)\n",
    "#output  should be : ((0, 1, 2, 3), ('python', 'HOPE'))\n",
    "tuple1 = (0, 1, 2, 3)\n",
    "tuple2 = ('python', 'HOPE')\n",
    "tuple3 = tuple1 + tuple2\n",
    "print (tuple3)\n",
    "tuple4 = ((0, 1, 2, 3), ('python', 'HOPE'))\n",
    "print (tuple4)"
   ]
  },
  {
   "cell_type": "code",
   "execution_count": 118,
   "id": "cfe4c389-7073-403e-8e56-7088ed4f4cc1",
   "metadata": {},
   "outputs": [
    {
     "name": "stdout",
     "output_type": "stream",
     "text": [
      "19 is an odd number\n",
      "25 is an odd number\n",
      "1 is an odd number\n"
     ]
    }
   ],
   "source": [
    "# print Odd Numbers in the list\n",
    "#(20,10,16,19,25,1,276,188)\n",
    "#19 is odd\n",
    "#25 is odd\n",
    "#1 is odd\n",
    "mylist = (20,10,16,19,25,1,276,188)\n",
    "for num in mylist:\n",
    " if num%2!=0:\n",
    "    print(num, \"is an odd number\")"
   ]
  },
  {
   "cell_type": "code",
   "execution_count": 120,
   "id": "d1b41a77-6262-4f91-8c2e-8431eb3b4bde",
   "metadata": {},
   "outputs": [
    {
     "name": "stdout",
     "output_type": "stream",
     "text": [
      "20 is an even number\n",
      "10 is an even number\n",
      "16 is an even number\n",
      "276 is an even number\n",
      "188 is an even number\n"
     ]
    }
   ],
   "source": [
    "# print Even numbers in the list\n",
    "mylist2 = (20,10,16,19,25,1,276,188)\n",
    "for num2 in mylist2:\n",
    "    if num2%2==0:\n",
    "        print(num2, \"is an even number\")"
   ]
  },
  {
   "cell_type": "code",
   "execution_count": null,
   "id": "7ba82bff-4788-48c4-a5c9-8c8ee2d4f0c8",
   "metadata": {},
   "outputs": [],
   "source": []
  }
 ],
 "metadata": {
  "kernelspec": {
   "display_name": "Python 3 (ipykernel)",
   "language": "python",
   "name": "python3"
  },
  "language_info": {
   "codemirror_mode": {
    "name": "ipython",
    "version": 3
   },
   "file_extension": ".py",
   "mimetype": "text/x-python",
   "name": "python",
   "nbconvert_exporter": "python",
   "pygments_lexer": "ipython3",
   "version": "3.12.4"
  }
 },
 "nbformat": 4,
 "nbformat_minor": 5
}
