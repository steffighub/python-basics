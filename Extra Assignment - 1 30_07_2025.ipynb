{
 "cells": [
  {
   "cell_type": "code",
   "execution_count": 5,
   "id": "e70c6b5a-661a-418d-9ab2-47b0d846e0c0",
   "metadata": {},
   "outputs": [
    {
     "name": "stdout",
     "output_type": "stream",
     "text": [
      "HOPE AI\n"
     ]
    }
   ],
   "source": [
    "#1print Statement HOPE AI\n",
    "print(\"HOPE AI\")"
   ]
  },
  {
   "cell_type": "code",
   "execution_count": 7,
   "id": "bb0e701e-2024-46d8-806f-655898d04f98",
   "metadata": {},
   "outputs": [
    {
     "name": "stdin",
     "output_type": "stream",
     "text": [
      "Enter your institute name? : HOPE AI\n"
     ]
    }
   ],
   "source": [
    "# 2Buy input Enter your institute name? : HOPE AI\n",
    "ans2 = input(\"Enter your institute name? :\")"
   ]
  },
  {
   "cell_type": "code",
   "execution_count": 9,
   "id": "41c97040-f2e3-411a-b22c-ca63e830c0c7",
   "metadata": {},
   "outputs": [
    {
     "name": "stdin",
     "output_type": "stream",
     "text": [
      "Enter your name:  Raj\n",
      "Enter your age:  15\n",
      "Enter your school name:  Guru school\n",
      "Enter your drgree:  B.E CSE\n"
     ]
    }
   ],
   "source": [
    "#3 Buy inputs \n",
    "#Enter your name: Raj\n",
    "#Enter your age: 15\n",
    "#Enter your school name: Guru school\n",
    "#Enter your drgree: B.E CSE\n",
    "name = input(\"Enter your name: \")\n",
    "age = input(\"Enter your age: \")\n",
    "schoolname = input(\"Enter your school name: \")\n",
    "degree = input(\"Enter your drgree: \")"
   ]
  },
  {
   "cell_type": "code",
   "execution_count": 5,
   "id": "142e3ebe-50c3-4330-96f2-390ee8ec8569",
   "metadata": {},
   "outputs": [
    {
     "name": "stdout",
     "output_type": "stream",
     "text": [
      "add = 77\n"
     ]
    }
   ],
   "source": [
    "#4 Addition\n",
    "#a= 43\n",
    "#b= 34\n",
    "#add = 77\n",
    "a = 43\n",
    "b = 34\n",
    "add = a+b\n",
    "print(\"add =\",add)"
   ]
  },
  {
   "cell_type": "code",
   "execution_count": 12,
   "id": "6f7f67f9-b97e-492b-903e-8f06f6ae0cd2",
   "metadata": {},
   "outputs": [
    {
     "name": "stdout",
     "output_type": "stream",
     "text": [
      "Sub = 9\n"
     ]
    }
   ],
   "source": [
    "#5 Subtraction\n",
    "#a= 43\n",
    "#b= 34\n",
    "#Sub = 9\n",
    "a= 43\n",
    "b= 34\n",
    "Sub = a-b\n",
    "print(\"Sub =\",Sub)"
   ]
  },
  {
   "cell_type": "code",
   "execution_count": 14,
   "id": "7991bd93-71f8-4c7c-8a96-696b4ca5000d",
   "metadata": {},
   "outputs": [
    {
     "name": "stdout",
     "output_type": "stream",
     "text": [
      "Mul = 6111\n"
     ]
    }
   ],
   "source": [
    "#6 Multiplication\n",
    "#a=63\n",
    "#b=97\n",
    "#Mul = 6111\n",
    "a=63\n",
    "b=97\n",
    "Mul = a*b\n",
    "print(\"Mul =\",Mul)"
   ]
  },
  {
   "cell_type": "code",
   "execution_count": 24,
   "id": "7f14fe50-1870-49d7-aace-f904af5b8409",
   "metadata": {},
   "outputs": [
    {
     "name": "stdout",
     "output_type": "stream",
     "text": [
      "Float Div = 2.4516129032258065\n"
     ]
    }
   ],
   "source": [
    "#7 Division\n",
    "#a=76\n",
    "#b=31\n",
    "#FloatDiv = 2.4516129032258065\n",
    "a=76\n",
    "b=31\n",
    "FloatDiv = a/b\n",
    "print(\"Float Div =\",FloatDiv)"
   ]
  },
  {
   "cell_type": "code",
   "execution_count": 26,
   "id": "eeebe2ff-ad45-4efe-9cc1-1de09b73fa5a",
   "metadata": {},
   "outputs": [
    {
     "name": "stdout",
     "output_type": "stream",
     "text": [
      "Floor Div 2\n"
     ]
    }
   ],
   "source": [
    "#8 Floor division\n",
    "#a=76\n",
    "#b=31\n",
    "#Floor Div = 2\n",
    "a=76\n",
    "b=31\n",
    "FloorDiv = a//b\n",
    "print(\"Floor Div\",FloorDiv)"
   ]
  },
  {
   "cell_type": "code",
   "execution_count": 28,
   "id": "009f7c6d-38a0-46e6-98ad-7b4dc75aba71",
   "metadata": {},
   "outputs": [
    {
     "name": "stdout",
     "output_type": "stream",
     "text": [
      "power = 256\n"
     ]
    }
   ],
   "source": [
    "#9 Power\n",
    "#a=4\n",
    "#b=4\n",
    "#power = 256\n",
    "a=4\n",
    "b=4\n",
    "power = a**b\n",
    "print(\"power =\",power)"
   ]
  }
 ],
 "metadata": {
  "kernelspec": {
   "display_name": "Python 3 (ipykernel)",
   "language": "python",
   "name": "python3"
  },
  "language_info": {
   "codemirror_mode": {
    "name": "ipython",
    "version": 3
   },
   "file_extension": ".py",
   "mimetype": "text/x-python",
   "name": "python",
   "nbconvert_exporter": "python",
   "pygments_lexer": "ipython3",
   "version": "3.12.4"
  }
 },
 "nbformat": 4,
 "nbformat_minor": 5
}
