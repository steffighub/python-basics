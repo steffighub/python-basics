{
 "cells": [
  {
   "cell_type": "code",
   "execution_count": 31,
   "id": "990f9dfd-318d-4859-9599-b56517cc7d7f",
   "metadata": {},
   "outputs": [
    {
     "name": "stdin",
     "output_type": "stream",
     "text": [
      "Enter the value of a =  5\n",
      "Enter the value of a =  5\n"
     ]
    },
    {
     "name": "stdout",
     "output_type": "stream",
     "text": [
      "CORRECT\n"
     ]
    }
   ],
   "source": [
    "# print 'CORRECT' if i == 10\n",
    "#output value: 10\n",
    "#Correct\n",
    "a = int(input(\"Enter the value of a = \"))\n",
    "b = int(input(\"Enter the value of a = \"))\n",
    "i = int(a+b)\n",
    "print(\"CORRECT\") if i==10 else print(\"wrong\")"
   ]
  },
  {
   "cell_type": "code",
   "execution_count": 27,
   "id": "e44b2a99-84cf-4af8-9379-637123e3b4bf",
   "metadata": {},
   "outputs": [
    {
     "name": "stdout",
     "output_type": "stream",
     "text": [
      "CORRECT \n",
      "output value:  10\n"
     ]
    }
   ],
   "source": [
    "a = 6\n",
    "b = 4\n",
    "i = a+b\n",
    "if i==10:\n",
    "     print(\"CORRECT \\noutput value: \",i)"
   ]
  },
  {
   "cell_type": "code",
   "execution_count": 29,
   "id": "d496df61-589f-4dd9-b465-6252261a6f0f",
   "metadata": {},
   "outputs": [
    {
     "name": "stdin",
     "output_type": "stream",
     "text": [
      "Enter the password:  HOPE@123\n"
     ]
    },
    {
     "name": "stdout",
     "output_type": "stream",
     "text": [
      "Your password is correct\n"
     ]
    }
   ],
   "source": [
    "# Check the password, using if and else\n",
    "# Enter the password: HOPE@123\n",
    "# Your password is correct\n",
    "e = input(\"Enter the password: \")\n",
    "print(\"Your password is correct\") if e==\"HOPE@123\" else (\"Your password is wrong\")"
   ]
  },
  {
   "cell_type": "code",
   "execution_count": 41,
   "id": "8b612336-1cc6-4467-b339-424204f7256c",
   "metadata": {},
   "outputs": [
    {
     "name": "stdin",
     "output_type": "stream",
     "text": [
      "Enter Age = 36\n"
     ]
    },
    {
     "name": "stdout",
     "output_type": "stream",
     "text": [
      "citizen\n"
     ]
    }
   ],
   "source": [
    "# Catagory the people by their age like children, adult, citizen, senior citizen...\n",
    "# age: 20\n",
    "# Adult\n",
    "\n",
    "a = int(input(\"Enter Age =\"))\n",
    "if a<18:\n",
    "    print (\"children\")\n",
    "elif a==18:\n",
    "    print(\"adult\") \n",
    "elif a<59:\n",
    "    print(\"citizen\") \n",
    "else:\n",
    "    print (\"senior citizen\")"
   ]
  },
  {
   "cell_type": "code",
   "execution_count": 43,
   "id": "d219bdf6-3056-4efd-b65c-0655913f5502",
   "metadata": {},
   "outputs": [
    {
     "name": "stdin",
     "output_type": "stream",
     "text": [
      "Enter number = -5\n"
     ]
    },
    {
     "name": "stdout",
     "output_type": "stream",
     "text": [
      "negative\n"
     ]
    }
   ],
   "source": [
    "# Find whether given number is positive or negative\n",
    "# Enter any number:1\n",
    "# No is positive\n",
    "a = int(input(\"Enter number =\"))\n",
    "if a<0:\n",
    "    print (\"negative\")\n",
    "elif a>0:\n",
    "    print(\"positive\")"
   ]
  },
  {
   "cell_type": "code",
   "execution_count": 45,
   "id": "237f6f37-b520-4f05-91b8-df4ccb80989b",
   "metadata": {},
   "outputs": [
    {
     "name": "stdin",
     "output_type": "stream",
     "text": [
      "Enter number to check = 25\n"
     ]
    },
    {
     "name": "stdout",
     "output_type": "stream",
     "text": [
      "No is divisible by 5\n"
     ]
    }
   ],
   "source": [
    " # Check whether the given number is divisible by 5\n",
    "# Enter a number to check:22\n",
    "# No is not divisible by 5\n",
    "a = int(input(\"Enter number to check =\"))\n",
    "if a%5==0:\n",
    "    print (\"No is divisible by 5\")\n",
    "else:\n",
    "    print(\"No is not divisible by 5\")\n"
   ]
  },
  {
   "cell_type": "code",
   "execution_count": null,
   "id": "908a57b4-1268-4bb6-8b09-0abed14555fb",
   "metadata": {},
   "outputs": [],
   "source": []
  }
 ],
 "metadata": {
  "kernelspec": {
   "display_name": "Python 3 (ipykernel)",
   "language": "python",
   "name": "python3"
  },
  "language_info": {
   "codemirror_mode": {
    "name": "ipython",
    "version": 3
   },
   "file_extension": ".py",
   "mimetype": "text/x-python",
   "name": "python",
   "nbconvert_exporter": "python",
   "pygments_lexer": "ipython3",
   "version": "3.12.4"
  }
 },
 "nbformat": 4,
 "nbformat_minor": 5
}
